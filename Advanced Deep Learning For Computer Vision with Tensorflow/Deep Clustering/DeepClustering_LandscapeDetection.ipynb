{
 "cells": [
  {
   "attachments": {},
   "cell_type": "markdown",
   "metadata": {},
   "source": [
    "# Deep Clustering: K-means for landscape clustering "
   ]
  },
  {
   "cell_type": "code",
   "execution_count": 1,
   "metadata": {},
   "outputs": [],
   "source": [
    "import cv2\n",
    "import tensorflow as tf\n",
    "import random\n",
    "import numpy as np\n",
    "import glob\n",
    "import os\n",
    "import matplotlib.pyplot as plt"
   ]
  },
  {
   "cell_type": "code",
   "execution_count": null,
   "metadata": {},
   "outputs": [],
   "source": [
    "from kaggle.api.kaggle_api_extended import KaggleApi\n",
    "\n",
    "os.environ['KAGGLE_USERNAME'] = \"xxxxxx\"                 #Manually input from kaggle\n",
    "os.environ['KAGGLE_KEY'] = \"xxxxxx\"   #Manually input from kaggle\n",
    "\n",
    "api = KaggleApi()\n",
    "api.authenticate()\n",
    "\n",
    "\n",
    "api.dataset_download_files('arnaud58/landscape-pictures', path=\"./Images/\", unzip=True)\n",
    "del api"
   ]
  },
  {
   "cell_type": "code",
   "execution_count": 4,
   "metadata": {},
   "outputs": [],
   "source": [
    "paths = [path for path in glob.glob(\"Images/\" + \"/*.jpg\")]\n",
    "random.Random(0).shuffle(paths)"
   ]
  },
  {
   "cell_type": "code",
   "execution_count": 5,
   "metadata": {},
   "outputs": [],
   "source": [
    "from tensorflow.keras.models import Sequential\n",
    "from tensorflow.keras.layers import Flatten\n",
    "\n",
    "base_model = tf.keras.applications.ResNet101(\n",
    "    include_top = False, \n",
    "    weights = \"imagenet\",\n",
    "    input_shape=(224,224,3)\n",
    ")\n",
    "\n",
    "model = Sequential([\n",
    "    base_model,\n",
    "    Flatten()\n",
    "])"
   ]
  },
  {
   "cell_type": "code",
   "execution_count": 8,
   "metadata": {},
   "outputs": [],
   "source": [
    "def get_convolutional_features(img_path: str) -> np.array:\n",
    "    img = cv2.imread(img_path)\n",
    "    img = cv2.cvtColor(img, cv2.COLOR_BGR2RGB)\n",
    "    img = cv2.resize(img, (224,224))\n",
    "\n",
    "    return model.predict( np.array([img]) , verbose = 0)"
   ]
  },
  {
   "cell_type": "code",
   "execution_count": 9,
   "metadata": {},
   "outputs": [
    {
     "name": "stdout",
     "output_type": "stream",
     "text": [
      "Done!\n"
     ]
    }
   ],
   "source": [
    "features, labels = [],[]\n",
    "\n",
    "for path in paths[:int(len(paths)*0.75)]:\n",
    "    features.append( get_convolutional_features(path) )\n",
    "    labels.append(path)\n",
    "\n",
    "features = np.array(features)[:,0,:]\n",
    "labels = np.array(labels)\n",
    "print(\"Done!\")"
   ]
  },
  {
   "attachments": {},
   "cell_type": "markdown",
   "metadata": {},
   "source": [
    "#### K-MEANS"
   ]
  },
  {
   "cell_type": "code",
   "execution_count": 10,
   "metadata": {},
   "outputs": [],
   "source": [
    "from nltk.cluster.kmeans import KMeansClusterer\n",
    "from nltk.cluster.util import cosine_distance\n",
    "\n",
    "kmeans = KMeansClusterer(num_means = 6 , distance=cosine_distance)\n",
    "cluster =  kmeans.cluster(features, assign_clusters=True)"
   ]
  },
  {
   "cell_type": "code",
   "execution_count": 15,
   "metadata": {},
   "outputs": [],
   "source": [
    "groups = []\n",
    "\n",
    "for centroid in kmeans.means():\n",
    "    dist = np.array([cosine_distance(centroid, feature) for feature in features])\n",
    "    min_dists = dist.argsort()[:5]\n",
    "    groups.append(labels[min_dists])"
   ]
  },
  {
   "cell_type": "code",
   "execution_count": null,
   "metadata": {},
   "outputs": [],
   "source": [
    "fig, axs = plt.subplots(6, 5, figsize=(12,12))\n",
    "\n",
    "for i,cluster in enumerate(groups):\n",
    "    for j, path in enumerate(cluster):\n",
    "        img = cv2.imread(path)\n",
    "        img = cv2.resize(img,(224,224))\n",
    "\n",
    "        axs[i][j].imshow( cv2.cvtColor(img, cv2.COLOR_BGR2RGB) )\n",
    "        axs[i][j].axis('off')\n",
    "\n",
    "        if j == 0:\n",
    "            axs[i][j].set_title('Group: {}'.format(i))\n",
    "    \n",
    "\n",
    "plt.tight_layout()\n",
    "plt.show()"
   ]
  }
 ],
 "metadata": {
  "kernelspec": {
   "display_name": "ThisOne",
   "language": "python",
   "name": "python3"
  },
  "language_info": {
   "codemirror_mode": {
    "name": "ipython",
    "version": 3
   },
   "file_extension": ".py",
   "mimetype": "text/x-python",
   "name": "python",
   "nbconvert_exporter": "python",
   "pygments_lexer": "ipython3",
   "version": "3.8.8"
  },
  "orig_nbformat": 4,
  "vscode": {
   "interpreter": {
    "hash": "821310d70b4992712a2baba0307fa79422f77854d6739635a34f51c50a329e5e"
   }
  }
 },
 "nbformat": 4,
 "nbformat_minor": 2
}
