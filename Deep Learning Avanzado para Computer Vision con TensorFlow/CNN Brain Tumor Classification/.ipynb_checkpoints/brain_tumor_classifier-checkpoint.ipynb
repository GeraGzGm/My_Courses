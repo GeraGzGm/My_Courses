{
 "cells": [
  {
   "cell_type": "markdown",
   "metadata": {},
   "source": [
    "# Brain Tumor Classifier"
   ]
  },
  {
   "cell_type": "code",
   "execution_count": 1,
   "metadata": {},
   "outputs": [],
   "source": [
    "import cv2 \n",
    "import tensorflow as tf\n",
    "from tensorflow.python import keras\n",
    "import numpy as np\n",
    "import matplotlib.pyplot as plt\n",
    "\n",
    "import os\n",
    "import glob\n",
    "import random"
   ]
  },
  {
   "cell_type": "code",
   "execution_count": 2,
   "metadata": {},
   "outputs": [],
   "source": [
    "paths = [\"Images/Testing/\", \"Images/Training/\"]\n",
    "types_of_tumors = os.listdir(paths[0])"
   ]
  },
  {
   "cell_type": "code",
   "execution_count": 3,
   "metadata": {},
   "outputs": [
    {
     "name": "stdout",
     "output_type": "stream",
     "text": [
      "Number of elements: 7023\n"
     ]
    }
   ],
   "source": [
    "data = []\n",
    "\n",
    "for i,path in enumerate(paths):\n",
    "    for label_int, label_str in enumerate(types_of_tumors):\n",
    "        for filename in glob.glob(path + label_str + '/*.jpg'):\n",
    "            img = cv2.imread(filename)\n",
    "            data.append([label_int, cv2.resize(img,(320,320)) ])\n",
    "print(\"Number of elements: {}\".format(len(data)))"
   ]
  },
  {
   "cell_type": "markdown",
   "metadata": {},
   "source": [
    "#### Division of the dataset into Training(80%), Validation(10%) and Testing(10%)"
   ]
  },
  {
   "cell_type": "code",
   "execution_count": 4,
   "metadata": {},
   "outputs": [],
   "source": [
    "X_train , Y_train = [],[]\n",
    "X_val , Y_val = [],[]\n",
    "X_test , Y_test = [],[]\n",
    "\n",
    "#Shuffle the data list everytime with the same seed\n",
    "random.Random(0).shuffle(data)\n",
    "\n",
    "for i, sample in enumerate(data):\n",
    "    label, img = sample\n",
    "    \n",
    "    if i <= 0.8*len(data):\n",
    "        X_train.append(img)\n",
    "        Y_train.append(label)\n",
    "    elif i > 0.8*len(data) and i < 0.9*len(data):\n",
    "        X_val.append(img)\n",
    "        Y_val.append(label)\n",
    "    else:\n",
    "        X_test.append(img)\n",
    "        Y_test.append(label)\n",
    "\n",
    "\n",
    "X_train = np.array(X_train)\n",
    "X_val = np.array(X_train)\n",
    "X_test = np.array(X_train)\n",
    "\n",
    "Y_train = np.array(Y_train)\n",
    "Y_val = np.array(Y_train)\n",
    "Y_test = np.array(Y_train)"
   ]
  },
  {
   "cell_type": "markdown",
   "metadata": {},
   "source": [
    "#### OneHot encoding"
   ]
  },
  {
   "cell_type": "code",
   "execution_count": 5,
   "metadata": {},
   "outputs": [],
   "source": [
    "Y_train_onehot = tf.one_hot(Y_train, len(types_of_tumors))\n",
    "Y_val_onehot = tf.one_hot(Y_val, len(types_of_tumors))\n",
    "Y_test_onehot = tf.one_hot(Y_test, len(types_of_tumors))"
   ]
  },
  {
   "cell_type": "markdown",
   "metadata": {},
   "source": [
    "#### CNN Implementation"
   ]
  },
  {
   "cell_type": "code",
   "execution_count": 6,
   "metadata": {},
   "outputs": [],
   "source": [
    "from keras.models import Sequential\n",
    "from keras.layers import Convolution2D, Flatten, MaxPooling2D, Dense"
   ]
  },
  {
   "cell_type": "code",
   "execution_count": 7,
   "metadata": {},
   "outputs": [],
   "source": [
    "model = Sequential([\n",
    "   Convolution2D(32, (3,3), input_shape=(320,320,3), activation = 'relu'),\n",
    "   MaxPooling2D()\n",
    "])"
   ]
  },
  {
   "cell_type": "code",
   "execution_count": 40,
   "metadata": {},
   "outputs": [],
   "source": []
  },
  {
   "cell_type": "code",
   "execution_count": null,
   "metadata": {},
   "outputs": [],
   "source": []
  }
 ],
 "metadata": {
  "kernelspec": {
   "display_name": "Python 3 (ipykernel)",
   "language": "python",
   "name": "python3"
  },
  "language_info": {
   "codemirror_mode": {
    "name": "ipython",
    "version": 3
   },
   "file_extension": ".py",
   "mimetype": "text/x-python",
   "name": "python",
   "nbconvert_exporter": "python",
   "pygments_lexer": "ipython3",
   "version": "3.8.8"
  },
  "vscode": {
   "interpreter": {
    "hash": "821310d70b4992712a2baba0307fa79422f77854d6739635a34f51c50a329e5e"
   }
  }
 },
 "nbformat": 4,
 "nbformat_minor": 2
}
