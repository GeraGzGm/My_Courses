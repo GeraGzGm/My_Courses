{
  "nbformat": 4,
  "nbformat_minor": 0,
  "metadata": {
    "colab": {
      "provenance": []
    },
    "kernelspec": {
      "name": "python3",
      "display_name": "Python 3"
    },
    "language_info": {
      "name": "python"
    },
    "accelerator": "GPU",
    "gpuClass": "standard"
  },
  "cells": [
    {
      "cell_type": "code",
      "execution_count": null,
      "metadata": {
        "colab": {
          "base_uri": "https://localhost:8080/"
        },
        "id": "XKP-XI8Cw64_",
        "outputId": "d291a982-b458-40fa-eb38-9508259edda9"
      },
      "outputs": [
        {
          "output_type": "stream",
          "name": "stdout",
          "text": [
            "Downloading data from https://storage.googleapis.com/tensorflow/keras-applications/vgg16/vgg16_weights_tf_dim_ordering_tf_kernels_notop.h5\n",
            "58889256/58889256 [==============================] - 3s 0us/step\n"
          ]
        }
      ],
      "source": [
        "import tensorflow as tf\n",
        "from tensorflow.keras.layers import Dense, Flatten\n",
        "from tensorflow.keras.models import Model\n",
        "from tensorflow.keras.optimizers import Adam, SGD\n",
        "from tensorflow.keras.applications.vgg16 import VGG16\n",
        "\n",
        "import numpy as np\n",
        "import matplotlib.pyplot as plt\n",
        "\n",
        "vgg16 = VGG16(input_shape=[100,100,3], include_top = False, weights = 'imagenet')\n",
        "\n",
        "x = Flatten()(vgg16.output)\n",
        "x = Dense(4, activation = 'sigmoid')(x) # x1,y1,x2,y2 with values from [0,1]\n",
        "model = Model(vgg16.input, x)"
      ]
    },
    {
      "cell_type": "code",
      "source": [
        "def Image_Generator(batch_size = 64):\n",
        "\n",
        "  while True:\n",
        "\n",
        "    for _ in range(100):\n",
        "\n",
        "      X = np.zeros((batch_size, 100, 100, 3))\n",
        "      Y = np.zeros((batch_size, 4))\n",
        "\n",
        "      for i in range(batch_size):\n",
        "\n",
        "        row_1 = np.random.randint(90)\n",
        "        col_1 = np.random.randint(90)\n",
        "        row_2 = np.random.randint(row_1,100)\n",
        "        col_2 = np.random.randint(col_1,100)\n",
        "\n",
        "        X[i, row_1:row_2, col_1:col_2, :] = 1\n",
        "        Y[i,0] = row_1 / 100\n",
        "        Y[i,1] = col_1 / 100\n",
        "        Y[i,2] = (row_2 - row_1) / 100 \n",
        "        Y[i,3] = (col_2 - col_1) / 100 \n",
        "        \n",
        "      yield X,Y"
      ],
      "metadata": {
        "id": "CRM2LEMgy-l2"
      },
      "execution_count": null,
      "outputs": []
    },
    {
      "cell_type": "code",
      "source": [
        "model.compile(loss = 'binary_crossentropy', optimizer = Adam(learning_rate = 0.001))\n",
        "model.fit(Image_Generator(), steps_per_epoch=100, epochs = 10)"
      ],
      "metadata": {
        "colab": {
          "base_uri": "https://localhost:8080/"
        },
        "id": "on_aI1Tzzq7c",
        "outputId": "ce65f44b-f269-4403-ad85-74d29bfa3fab"
      },
      "execution_count": null,
      "outputs": [
        {
          "output_type": "stream",
          "name": "stdout",
          "text": [
            "Epoch 1/10\n",
            "100/100 [==============================] - 22s 170ms/step - loss: 0.5181\n",
            "Epoch 2/10\n",
            "100/100 [==============================] - 17s 170ms/step - loss: 0.5059\n",
            "Epoch 3/10\n",
            "100/100 [==============================] - 17s 172ms/step - loss: 0.5034\n",
            "Epoch 4/10\n",
            "100/100 [==============================] - 17s 173ms/step - loss: 0.5045\n",
            "Epoch 5/10\n",
            "100/100 [==============================] - 17s 174ms/step - loss: 0.5031\n",
            "Epoch 6/10\n",
            "100/100 [==============================] - 18s 175ms/step - loss: 0.5042\n",
            "Epoch 7/10\n",
            "100/100 [==============================] - 18s 177ms/step - loss: 0.5057\n",
            "Epoch 8/10\n",
            "100/100 [==============================] - 18s 176ms/step - loss: 0.5029\n",
            "Epoch 9/10\n",
            "100/100 [==============================] - 18s 177ms/step - loss: 0.5037\n",
            "Epoch 10/10\n",
            "100/100 [==============================] - 18s 177ms/step - loss: 0.5045\n"
          ]
        },
        {
          "output_type": "execute_result",
          "data": {
            "text/plain": [
              "<keras.callbacks.History at 0x7f49020f3f70>"
            ]
          },
          "metadata": {},
          "execution_count": 12
        }
      ]
    },
    {
      "cell_type": "code",
      "source": [
        "from matplotlib.patches import Rectangle\n",
        "\n",
        "x = np.zeros((100,100,3))\n",
        "row_1 = np.random.randint(90)\n",
        "col_1 = np.random.randint(90)\n",
        "row_2 = np.random.randint(row_1,100)\n",
        "col_2 = np.random.randint(col_1,100)\n",
        "\n",
        "x[row_1:row_2, col_1:col_2, :] = 1\n",
        "\n",
        "x = np.expand_dims(x, axis = 0)\n",
        "p = model.predict(x, verbose = False)[0]\n",
        "\n",
        "fig, ax = plt.subplots(1)\n",
        "\n",
        "ax.imshow(x[0])\n",
        "rect = Rectangle((p[1]*100, p[0]*100), p[3]*100, p[2]*100, linewidth = 1, edgecolor = 'r', facecolor = 'none')\n",
        "ax.add_patch(rect)\n",
        "plt.show()\n"
      ],
      "metadata": {
        "colab": {
          "base_uri": "https://localhost:8080/",
          "height": 433
        },
        "id": "8zyeCHAtzrsk",
        "outputId": "3a0d0110-dad9-4d86-80d4-09400f33159f"
      },
      "execution_count": null,
      "outputs": [
        {
          "output_type": "display_data",
          "data": {
            "text/plain": [
              "<Figure size 640x480 with 1 Axes>"
            ],
            "image/png": "[encoded data removed]"
          },
          "metadata": {}
        }
      ]
    },
    {
      "cell_type": "code",
      "source": [],
      "metadata": {
        "id": "TB0mXtmT02BU"
      },
      "execution_count": null,
      "outputs": []
    }
  ]
}