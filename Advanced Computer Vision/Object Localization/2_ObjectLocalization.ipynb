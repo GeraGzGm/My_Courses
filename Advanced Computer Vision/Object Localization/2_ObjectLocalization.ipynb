{
  "nbformat": 4,
  "nbformat_minor": 0,
  "metadata": {
    "colab": {
      "provenance": []
    },
    "kernelspec": {
      "name": "python3",
      "display_name": "Python 3"
    },
    "language_info": {
      "name": "python"
    },
    "accelerator": "GPU",
    "gpuClass": "standard"
  },
  "cells": [
    {
      "cell_type": "code",
      "execution_count": 1,
      "metadata": {
        "id": "uKNy2MydDkvr"
      },
      "outputs": [],
      "source": [
        "import tensorflow as tf\n",
        "from tensorflow.keras.layers import Dense, Flatten\n",
        "from tensorflow.keras.models import Model\n",
        "from tensorflow.keras.optimizers import Adam, SGD\n",
        "from tensorflow.keras.applications.vgg16 import VGG16\n",
        "\n",
        "import numpy as np\n",
        "import matplotlib.pyplot as plt\n",
        "\n",
        "from skimage import io\n",
        "import cv2"
      ]
    },
    {
      "cell_type": "code",
      "source": [
        "Pikachu = io.imread('http://pm1.narvii.com/6722/0ab8cce1e61ba0ef3beec0823b2c5321d1716fef_00.jpg')\n",
        "Pikachu = cv2.resize(Pikachu[:,:,:3], (20,20))\n",
        "\n",
        "plt.imshow( Pikachu )\n",
        "plt.axis('off');"
      ],
      "metadata": {
        "colab": {
          "base_uri": "https://localhost:8080/",
          "height": 406
        },
        "id": "kEHAJgfADpse",
        "outputId": "2ec5546b-15bc-40d6-c29e-f83ce9b778ac"
      },
      "execution_count": 2,
      "outputs": [
        {
          "output_type": "display_data",
          "data": {
            "text/plain": [
              "<Figure size 640x480 with 1 Axes>"
            ],
            "image/png": "[encoded data removed]"
          },
          "metadata": {}
        }
      ]
    },
    {
      "cell_type": "code",
      "source": [
        "vgg16 = VGG16(include_top=False, weights='imagenet', input_shape=[240,240,3])\n",
        "\n",
        "x = Flatten()(vgg16.output)\n",
        "x = Dense(4, activation = 'sigmoid')(x)\n",
        "\n",
        "model = Model(vgg16.input, x)"
      ],
      "metadata": {
        "colab": {
          "base_uri": "https://localhost:8080/"
        },
        "id": "74dXJl3qDpts",
        "outputId": "2bd52e9e-9339-4107-d903-0ecf168f65af"
      },
      "execution_count": 3,
      "outputs": [
        {
          "output_type": "stream",
          "name": "stdout",
          "text": [
            "Downloading data from https://storage.googleapis.com/tensorflow/keras-applications/vgg16/vgg16_weights_tf_dim_ordering_tf_kernels_notop.h5\n",
            "58889256/58889256 [==============================] - 1s 0us/step\n"
          ]
        }
      ]
    },
    {
      "cell_type": "code",
      "source": [
        "def Image_Generator(batch_size = 64):\n",
        "\n",
        "  while True:\n",
        "\n",
        "    for _ in range(50):\n",
        "\n",
        "      X = np.ones((batch_size, 240, 240, 3)) * 255\n",
        "      Y = np.zeros((batch_size, 4))\n",
        "\n",
        "      for i in range(batch_size):\n",
        "\n",
        "        n_w = np.random.randint(10, 150)\n",
        "        n_h = np.random.randint(10, 150)\n",
        "\n",
        "        row_1 = np.random.randint(0, 240 - n_h)\n",
        "        col_1 = np.random.randint(0, 240 - n_w)\n",
        "        row_2 = row_1 + n_h\n",
        "        col_2 = col_1 + n_w\n",
        "\n",
        "\n",
        "        X[i, row_1:row_2, col_1:col_2, :] = cv2.resize(Pikachu, (n_w, n_h))\n",
        "        Y[i,0] = row_1 / 240\n",
        "        Y[i,1] = col_1 / 240\n",
        "        Y[i,2] = (row_2 - row_1) / 240 \n",
        "        Y[i,3] = (col_2 - col_1) / 240 \n",
        "        \n",
        "      yield X,Y"
      ],
      "metadata": {
        "id": "c3qe1QRdEOCm"
      },
      "execution_count": 4,
      "outputs": []
    },
    {
      "cell_type": "code",
      "source": [
        "model.compile(loss = 'binary_crossentropy', optimizer = Adam(learning_rate = 0.001))\n",
        "model.fit(Image_Generator(), steps_per_epoch=50, epochs = 10)"
      ],
      "metadata": {
        "colab": {
          "base_uri": "https://localhost:8080/"
        },
        "id": "zQIxcFtKGVxW",
        "outputId": "8d4118c8-02b9-453e-97da-4eb09c749c45"
      },
      "execution_count": 5,
      "outputs": [
        {
          "output_type": "stream",
          "name": "stdout",
          "text": [
            "Epoch 1/10\n",
            "50/50 [==============================] - 93s 927ms/step - loss: 2.0191\n",
            "Epoch 2/10\n",
            "50/50 [==============================] - 46s 911ms/step - loss: 0.5884\n",
            "Epoch 3/10\n",
            "50/50 [==============================] - 46s 914ms/step - loss: 0.5757\n",
            "Epoch 4/10\n",
            "50/50 [==============================] - 46s 913ms/step - loss: 0.5596\n",
            "Epoch 5/10\n",
            "50/50 [==============================] - 46s 918ms/step - loss: 0.5545\n",
            "Epoch 6/10\n",
            "50/50 [==============================] - 46s 912ms/step - loss: 0.5488\n",
            "Epoch 7/10\n",
            "50/50 [==============================] - 46s 912ms/step - loss: 0.5472\n",
            "Epoch 8/10\n",
            "50/50 [==============================] - 46s 914ms/step - loss: 0.5452\n",
            "Epoch 9/10\n",
            "50/50 [==============================] - 46s 914ms/step - loss: 0.5484\n",
            "Epoch 10/10\n",
            "50/50 [==============================] - 46s 912ms/step - loss: 0.5445\n"
          ]
        },
        {
          "output_type": "execute_result",
          "data": {
            "text/plain": [
              "<keras.callbacks.History at 0x7fd620186040>"
            ]
          },
          "metadata": {},
          "execution_count": 5
        }
      ]
    },
    {
      "cell_type": "code",
      "source": [
        "from matplotlib.patches import Rectangle\n",
        "from itertools import product\n",
        "\n",
        "fig, ax = plt.subplots(4,4)\n",
        "\n",
        "\n",
        "for i,j in product(range(4), range(4)):\n",
        "  n_w = np.random.randint(10, 150)\n",
        "  n_h = np.random.randint(10, 150)\n",
        "\n",
        "  x = np.ones((240, 240, 3)) * 255\n",
        "\n",
        "  row_1 = np.random.randint(0, 240 - n_h)\n",
        "  col_1 = np.random.randint(0, 240 - n_w)\n",
        "  row_2 = row_1 + n_h\n",
        "  col_2 = col_1 + n_w\n",
        "\n",
        "  x[row_1:row_2, col_1:col_2, :] = cv2.resize(Pikachu, (n_w, n_h))\n",
        "\n",
        "  x = np.expand_dims(x, axis = 0)\n",
        "  p = model.predict(x, verbose = False)[0]\n",
        "\n",
        "  ax[i][j].imshow(x[0].astype('uint8'))\n",
        "  rect = Rectangle((p[1]*240, p[0]*240), p[3]*240, p[2]*240, linewidth = 1, edgecolor = 'r', facecolor = 'none')\n",
        "  ax[i][j].add_patch(rect)\n",
        "  ax[i][j].set_yticks([])\n",
        "  ax[i][j].set_xticks([])\n",
        "\n",
        "plt.show()"
      ],
      "metadata": {
        "colab": {
          "base_uri": "https://localhost:8080/",
          "height": 406
        },
        "id": "vUqpprq3GW5r",
        "outputId": "e039c934-3115-45b4-f814-1c2b36825cff"
      },
      "execution_count": 27,
      "outputs": [
        {
          "output_type": "display_data",
          "data": {
            "text/plain": [
              "<Figure size 640x480 with 16 Axes>"
            ],
            "image/png": "[encoded data removed]"
          },
          "metadata": {}
        }
      ]
    }
  ]
}